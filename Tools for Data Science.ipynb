{
 "cells": [
  {
   "cell_type": "markdown",
   "id": "ac0aaa1a",
   "metadata": {},
   "source": [
    "# Tools and Environment for Data Science "
   ]
  },
  {
   "cell_type": "code",
   "execution_count": null,
   "id": "bdafe9c5",
   "metadata": {},
   "outputs": [],
   "source": []
  },
  {
   "cell_type": "code",
   "execution_count": null,
   "id": "b71f1bae",
   "metadata": {},
   "outputs": [],
   "source": []
  },
  {
   "cell_type": "markdown",
   "id": "39c4250c",
   "metadata": {},
   "source": [
    "# In this notebook, Data Science Tools and Ecosystem are summarized."
   ]
  },
  {
   "cell_type": "code",
   "execution_count": null,
   "id": "6953bcc8",
   "metadata": {},
   "outputs": [],
   "source": []
  },
  {
   "cell_type": "code",
   "execution_count": null,
   "id": "e2989aca",
   "metadata": {},
   "outputs": [],
   "source": []
  },
  {
   "cell_type": "markdown",
   "id": "e8cd54a3",
   "metadata": {},
   "source": [
    "## Some of the popular languages that Data Scientists use are:\n",
    "\n",
    "\n",
    "1. **Python**: Python is one of the most popular programming languages for data science. It offers a wide range of libraries and tools for data manipulation, analysis, and machine learning, including NumPy, Pandas, Scikit-Learn, and more.\n",
    "\n",
    "2. **R**: R is specifically designed for statistical analysis and data visualization. It has a rich ecosystem of packages like ggplot2 and dplyr that make it a powerful tool for data scientists.\n",
    "\n",
    "3. **SQL**: SQL (Structured Query Language) is essential for working with databases. Data scientists often use SQL to extract, transform, and analyze data stored in relational databases.\n"
   ]
  },
  {
   "cell_type": "code",
   "execution_count": null,
   "id": "293351ba",
   "metadata": {},
   "outputs": [],
   "source": []
  },
  {
   "cell_type": "code",
   "execution_count": null,
   "id": "9307a906",
   "metadata": {},
   "outputs": [],
   "source": []
  },
  {
   "cell_type": "markdown",
   "id": "f32f536f",
   "metadata": {},
   "source": [
    "## Some of the commonly used libraries used by Data Scientists include:\n",
    "\n",
    "1. **NumPy**: NumPy is a fundamental library for numerical and array operations in Python. It provides support for large, multi-dimensional arrays and matrices, along with a variety of mathematical functions to operate on these arrays.\n",
    "\n",
    "2. **Pandas**: Pandas is a versatile data manipulation library for Python. It is widely used for data cleaning, transformation, and analysis. Pandas provides data structures like DataFrames and Series, making it easy to work with structured data.\n",
    "\n",
    "3. **Matplotlib**: Matplotlib is a popular library for creating static, animated, and interactive visualizations in Python. It offers a wide range of plotting functions and customization options to visualize data effectively.\n",
    "\n",
    "4. **Seaborn**: Seaborn is a data visualization library based on Matplotlib. It provides a high-level interface for creating informative and attractive statistical graphics. It is particularly useful for exploring and understanding data.\n",
    "\n",
    "5. **Scikit-Learn**: Scikit-Learn is a machine learning library for Python. It offers a simple and efficient set of tools for data analysis and modeling, including various algorithms for classification, regression, clustering, and more.\n",
    "\n",
    "6. **TensorFlow**: TensorFlow is an open-source machine learning framework developed by Google. It's widely used for deep learning and neural network applications, enabling data scientists to build and train complex models.\n",
    "\n",
    "7. **Keras**: Keras is an easy-to-use, high-level neural networks API that runs on top of TensorFlow. It's popular for rapid prototyping and experimentation with deep learning models.\n",
    "\n",
    "8. **Statsmodels**: Statsmodels is a Python module that provides classes and functions for the estimation of statistical models. It's particularly useful for performing statistical tests and exploring relationships in data.\n",
    "\n",
    "These libraries are essential tools for data scientists to perform data analysis, machine learning, and data visualization tasks.\n"
   ]
  },
  {
   "cell_type": "code",
   "execution_count": null,
   "id": "bb95463f",
   "metadata": {},
   "outputs": [],
   "source": []
  },
  {
   "cell_type": "code",
   "execution_count": null,
   "id": "ee799764",
   "metadata": {},
   "outputs": [],
   "source": []
  },
  {
   "cell_type": "markdown",
   "id": "ec54fa61",
   "metadata": {},
   "source": [
    "##  Data Science Tools. \n",
    "\n",
    "| Data Science Tools |\n",
    "|-------------------|\n",
    "| Jupyter Notebook  |\n",
    "| RStudio           |\n",
    "| Spyder            |\n"
   ]
  },
  {
   "cell_type": "code",
   "execution_count": null,
   "id": "1e55bf6c",
   "metadata": {},
   "outputs": [],
   "source": []
  },
  {
   "cell_type": "code",
   "execution_count": null,
   "id": "a4998931",
   "metadata": {},
   "outputs": [],
   "source": []
  },
  {
   "cell_type": "markdown",
   "id": "d97bf5a2",
   "metadata": {},
   "source": [
    "###  Below are a few examples of evaluating arithmetic expressions in Python"
   ]
  },
  {
   "cell_type": "code",
   "execution_count": null,
   "id": "ee975fc5",
   "metadata": {},
   "outputs": [],
   "source": []
  },
  {
   "cell_type": "code",
   "execution_count": null,
   "id": "f277a198",
   "metadata": {},
   "outputs": [],
   "source": []
  },
  {
   "cell_type": "markdown",
   "id": "7990b6cc",
   "metadata": {},
   "source": [
    "#  This a simple arithmetic expression to mutiply then add integers"
   ]
  },
  {
   "cell_type": "code",
   "execution_count": 1,
   "id": "70b906a0",
   "metadata": {},
   "outputs": [
    {
     "data": {
      "text/plain": [
       "25"
      ]
     },
     "execution_count": 1,
     "metadata": {},
     "output_type": "execute_result"
    }
   ],
   "source": [
    "(5*4)+5"
   ]
  },
  {
   "cell_type": "code",
   "execution_count": null,
   "id": "98d0b904",
   "metadata": {},
   "outputs": [],
   "source": []
  },
  {
   "cell_type": "code",
   "execution_count": null,
   "id": "afe6395e",
   "metadata": {},
   "outputs": [],
   "source": []
  },
  {
   "cell_type": "markdown",
   "id": "8f92d71f",
   "metadata": {},
   "source": [
    "# This will convert 200 minutes to hours by diving by 60"
   ]
  },
  {
   "cell_type": "code",
   "execution_count": 2,
   "id": "167527e8",
   "metadata": {},
   "outputs": [
    {
     "data": {
      "text/plain": [
       "3.3333333333333335"
      ]
     },
     "execution_count": 2,
     "metadata": {},
     "output_type": "execute_result"
    }
   ],
   "source": [
    "200/60"
   ]
  },
  {
   "cell_type": "code",
   "execution_count": null,
   "id": "5b463015",
   "metadata": {},
   "outputs": [],
   "source": []
  },
  {
   "cell_type": "markdown",
   "id": "0c999b42",
   "metadata": {},
   "source": [
    "**Objectives:**\n",
    "\n",
    "- List popular languages for Data Science.\n",
    "- Introduce common libraries used in Data Science.\n",
    "- Explain the role of version control in Data Science.\n",
    "- Describe the use of Jupyter Notebooks and Markdown for documentation.\n",
    "- Present key tools and development environments for Data Science.\n",
    "\n"
   ]
  },
  {
   "cell_type": "code",
   "execution_count": null,
   "id": "d8c6a615",
   "metadata": {},
   "outputs": [],
   "source": []
  },
  {
   "cell_type": "markdown",
   "id": "be5ee33c",
   "metadata": {},
   "source": [
    "## Author\n",
    "\n",
    "Yogeswari L"
   ]
  },
  {
   "cell_type": "code",
   "execution_count": null,
   "id": "9211abb8",
   "metadata": {},
   "outputs": [],
   "source": []
  }
 ],
 "metadata": {
  "kernelspec": {
   "display_name": "Python 3 (ipykernel)",
   "language": "python",
   "name": "python3"
  },
  "language_info": {
   "codemirror_mode": {
    "name": "ipython",
    "version": 3
   },
   "file_extension": ".py",
   "mimetype": "text/x-python",
   "name": "python",
   "nbconvert_exporter": "python",
   "pygments_lexer": "ipython3",
   "version": "3.9.12"
  }
 },
 "nbformat": 4,
 "nbformat_minor": 5
}
